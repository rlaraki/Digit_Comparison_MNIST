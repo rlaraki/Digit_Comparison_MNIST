{
 "cells": [
  {
   "cell_type": "code",
   "execution_count": 1,
   "metadata": {},
   "outputs": [
    {
     "name": "stderr",
     "output_type": "stream",
     "text": [
      "Using TensorFlow backend.\n"
     ]
    }
   ],
   "source": [
    "import tensorflow as tf\n",
    "from tensorflow import keras\n",
    "from keras.models import Sequential\n",
    "from keras.layers import Conv2D\n",
    "from keras.layers import MaxPooling2D\n",
    "from keras.layers import Flatten\n",
    "from keras.layers import Dense\n",
    "from keras.layers import Flatten\n",
    "from keras.layers import Activation\n",
    "from keras import activations\n",
    "from utils.data_utils import *\n",
    "from models.LeNet import *"
   ]
  },
  {
   "cell_type": "code",
   "execution_count": 2,
   "metadata": {},
   "outputs": [
    {
     "name": "stdout",
     "output_type": "stream",
     "text": [
      "Downloading http://yann.lecun.com/exdb/mnist/train-images-idx3-ubyte.gz to ../data/mnist/MNIST/raw/train-images-idx3-ubyte.gz\n"
     ]
    },
    {
     "data": {
      "application/vnd.jupyter.widget-view+json": {
       "model_id": "845c50118f994503b11eb4c5c4ffb717",
       "version_major": 2,
       "version_minor": 0
      },
      "text/plain": [
       "HBox(children=(FloatProgress(value=1.0, bar_style='info', max=1.0), HTML(value='')))"
      ]
     },
     "metadata": {},
     "output_type": "display_data"
    },
    {
     "name": "stdout",
     "output_type": "stream",
     "text": [
      "Extracting ../data/mnist/MNIST/raw/train-images-idx3-ubyte.gz to ../data/mnist/MNIST/raw\n",
      "Downloading http://yann.lecun.com/exdb/mnist/train-labels-idx1-ubyte.gz to ../data/mnist/MNIST/raw/train-labels-idx1-ubyte.gz\n"
     ]
    },
    {
     "data": {
      "application/vnd.jupyter.widget-view+json": {
       "model_id": "640049d69e844c2c9ce2c3f008865a9c",
       "version_major": 2,
       "version_minor": 0
      },
      "text/plain": [
       "HBox(children=(FloatProgress(value=1.0, bar_style='info', max=1.0), HTML(value='')))"
      ]
     },
     "metadata": {},
     "output_type": "display_data"
    },
    {
     "name": "stdout",
     "output_type": "stream",
     "text": [
      "Extracting ../data/mnist/MNIST/raw/train-labels-idx1-ubyte.gz to ../data/mnist/MNIST/raw\n",
      "Downloading http://yann.lecun.com/exdb/mnist/t10k-images-idx3-ubyte.gz to ../data/mnist/MNIST/raw/t10k-images-idx3-ubyte.gz\n"
     ]
    },
    {
     "data": {
      "application/vnd.jupyter.widget-view+json": {
       "model_id": "be21fe4198e14a31a2c09efb4125cc77",
       "version_major": 2,
       "version_minor": 0
      },
      "text/plain": [
       "HBox(children=(FloatProgress(value=1.0, bar_style='info', max=1.0), HTML(value='')))"
      ]
     },
     "metadata": {},
     "output_type": "display_data"
    },
    {
     "name": "stdout",
     "output_type": "stream",
     "text": [
      "Extracting ../data/mnist/MNIST/raw/t10k-images-idx3-ubyte.gz to ../data/mnist/MNIST/raw\n",
      "Downloading http://yann.lecun.com/exdb/mnist/t10k-labels-idx1-ubyte.gz to ../data/mnist/MNIST/raw/t10k-labels-idx1-ubyte.gz\n"
     ]
    },
    {
     "data": {
      "application/vnd.jupyter.widget-view+json": {
       "model_id": "622cdfa766744ef28d768a0efc1adc2d",
       "version_major": 2,
       "version_minor": 0
      },
      "text/plain": [
       "HBox(children=(FloatProgress(value=1.0, bar_style='info', max=1.0), HTML(value='')))"
      ]
     },
     "metadata": {},
     "output_type": "display_data"
    },
    {
     "name": "stdout",
     "output_type": "stream",
     "text": [
      "Extracting ../data/mnist/MNIST/raw/t10k-labels-idx1-ubyte.gz to ../data/mnist/MNIST/raw\n",
      "Processing...\n",
      "\n",
      "\n",
      "\n",
      "Done!\n"
     ]
    }
   ],
   "source": [
    "train_input, train_target, train_classes, test_input, test_target, test_classes = generate_pair_sets(1000)"
   ]
  },
  {
   "cell_type": "code",
   "execution_count": 28,
   "metadata": {},
   "outputs": [],
   "source": [
    "model = LeNet()"
   ]
  },
  {
   "cell_type": "code",
   "execution_count": 29,
   "metadata": {},
   "outputs": [],
   "source": [
    "model.compile(optimizer = keras.optimizers.Adam(learning_rate=0.001), loss = keras.losses.CategoricalCrossentropy(\n",
    "    from_logits=False,\n",
    "    name='categorical_crossentropy'\n",
    "            ), metrics=['categorical_crossentropy'])\n"
   ]
  },
  {
   "cell_type": "code",
   "execution_count": 27,
   "metadata": {},
   "outputs": [],
   "source": [
    "model0 = Sequential([\n",
    "                      Conv2D(6, (2,2), data_format = 'channels_first', input_shape=(2, 14, 14) , activation='relu'),\n",
    "                      MaxPooling2D(pool_size=(2,2), strides = (2,2), data_format = 'channels_first'),\n",
    "                      Conv2D(7, (2,2), input_shape=(6, 6, 6), data_format = 'channels_first',activation='relu'),\n",
    "                      MaxPooling2D(pool_size=(2,2), strides = (2,2), data_format = 'channels_first'),\n",
    "                      Conv2D(120, (2,2), input_shape=(7, 2, 2), data_format = 'channels_first',activation='relu'), \n",
    "                        Flatten(), \n",
    "                           Dense(84, activation='relu', input_dim=120), \n",
    "                           Dense(2, activation='softmax')])\n",
    "                                     "
   ]
  },
  {
   "cell_type": "code",
   "execution_count": 11,
   "metadata": {},
   "outputs": [
    {
     "name": "stdout",
     "output_type": "stream",
     "text": [
      "Model: \"sequential_3\"\n",
      "_________________________________________________________________\n",
      "Layer (type)                 Output Shape              Param #   \n",
      "=================================================================\n",
      "conv2d_4 (Conv2D)            (None, 6, 13, 13)         54        \n",
      "_________________________________________________________________\n",
      "max_pooling2d_3 (MaxPooling2 (None, 6, 6, 6)           0         \n",
      "_________________________________________________________________\n",
      "conv2d_5 (Conv2D)            (None, 7, 5, 5)           175       \n",
      "_________________________________________________________________\n",
      "max_pooling2d_4 (MaxPooling2 (None, 7, 2, 2)           0         \n",
      "_________________________________________________________________\n",
      "conv2d_6 (Conv2D)            (None, 120, 1, 1)         3480      \n",
      "_________________________________________________________________\n",
      "flatten_2 (Flatten)          (None, 120)               0         \n",
      "_________________________________________________________________\n",
      "dense_3 (Dense)              (None, 84)                10164     \n",
      "_________________________________________________________________\n",
      "dense_4 (Dense)              (None, 2)                 170       \n",
      "=================================================================\n",
      "Total params: 14,043\n",
      "Trainable params: 14,043\n",
      "Non-trainable params: 0\n",
      "_________________________________________________________________\n"
     ]
    }
   ],
   "source": [
    "model0.summary()"
   ]
  },
  {
   "cell_type": "code",
   "execution_count": 30,
   "metadata": {},
   "outputs": [],
   "source": [
    "model.compile(optimizer = keras.optimizers.Adam(learning_rate=0.001), loss = keras.losses.CategoricalCrossentropy(\n",
    "    name='categorical_crossentropy'\n",
    "            ), metrics=['accuracy'])"
   ]
  },
  {
   "cell_type": "code",
   "execution_count": 31,
   "metadata": {},
   "outputs": [
    {
     "name": "stdout",
     "output_type": "stream",
     "text": [
      "Train on 1000 samples\n",
      "Epoch 1/25\n",
      "1000/1000 [==============================] - 1s 1ms/sample - loss: 1.4722 - accuracy: 0.5110\n",
      "Epoch 2/25\n",
      "1000/1000 [==============================] - 1s 519us/sample - loss: 9.2440 - accuracy: 0.5040\n",
      "Epoch 3/25\n",
      "1000/1000 [==============================] - 1s 546us/sample - loss: 55.3441 - accuracy: 0.5070\n",
      "Epoch 4/25\n",
      "1000/1000 [==============================] - 1s 541us/sample - loss: 211.0903 - accuracy: 0.5180\n",
      "Epoch 5/25\n",
      "1000/1000 [==============================] - 1s 524us/sample - loss: 846.5389 - accuracy: 0.4800\n",
      "Epoch 6/25\n",
      "1000/1000 [==============================] - 1s 538us/sample - loss: 2405.7245 - accuracy: 0.5010\n",
      "Epoch 7/25\n",
      "1000/1000 [==============================] - 1s 627us/sample - loss: 6874.8828 - accuracy: 0.5100\n",
      "Epoch 8/25\n",
      "1000/1000 [==============================] - 1s 550us/sample - loss: 8397.5461 - accuracy: 0.4910\n",
      "Epoch 9/25\n",
      "1000/1000 [==============================] - 1s 549us/sample - loss: 19571.5556 - accuracy: 0.5200\n",
      "Epoch 10/25\n",
      "1000/1000 [==============================] - 1s 555us/sample - loss: 28099.2000 - accuracy: 0.5000\n",
      "Epoch 11/25\n",
      "1000/1000 [==============================] - 1s 529us/sample - loss: 51499.5040 - accuracy: 0.5000\n",
      "Epoch 12/25\n",
      "1000/1000 [==============================] - 1s 642us/sample - loss: 71805.0320 - accuracy: 0.5000\n",
      "Epoch 13/25\n",
      "1000/1000 [==============================] - 1s 534us/sample - loss: 103809.3554 - accuracy: 0.5000\n",
      "Epoch 14/25\n",
      "1000/1000 [==============================] - 1s 566us/sample - loss: 128760.9198 - accuracy: 0.4900\n",
      "Epoch 15/25\n",
      "1000/1000 [==============================] - 1s 548us/sample - loss: 188251.9832 - accuracy: 0.5100\n",
      "Epoch 16/25\n",
      "1000/1000 [==============================] - 1s 531us/sample - loss: 257347.2807 - accuracy: 0.5000\n",
      "Epoch 17/25\n",
      "1000/1000 [==============================] - 1s 554us/sample - loss: 261568.3520 - accuracy: 0.5100\n",
      "Epoch 18/25\n",
      "1000/1000 [==============================] - 1s 556us/sample - loss: 434066.6882 - accuracy: 0.4900\n",
      "Epoch 19/25\n",
      "1000/1000 [==============================] - 1s 545us/sample - loss: 529320.1273 - accuracy: 0.4900\n",
      "Epoch 20/25\n",
      "1000/1000 [==============================] - 1s 537us/sample - loss: 705596.3195 - accuracy: 0.5100\n",
      "Epoch 21/25\n",
      "1000/1000 [==============================] - 1s 581us/sample - loss: 856271.0364 - accuracy: 0.5000\n",
      "Epoch 22/25\n",
      "1000/1000 [==============================] - 1s 547us/sample - loss: 779801.5410 - accuracy: 0.4900\n",
      "Epoch 23/25\n",
      "1000/1000 [==============================] - 1s 568us/sample - loss: 691605.2493 - accuracy: 0.5000\n",
      "Epoch 24/25\n",
      "1000/1000 [==============================] - 1s 580us/sample - loss: 1602468.9877 - accuracy: 0.5100\n",
      "Epoch 25/25\n",
      "1000/1000 [==============================] - 1s 562us/sample - loss: 1424686.8421 - accuracy: 0.4900\n"
     ]
    },
    {
     "data": {
      "text/plain": [
       "<tensorflow.python.keras.callbacks.History at 0x63ffdb890>"
      ]
     },
     "execution_count": 31,
     "metadata": {},
     "output_type": "execute_result"
    }
   ],
   "source": [
    "model.fit(train_input,train_target, batch_size = 10, epochs = 25)"
   ]
  },
  {
   "cell_type": "code",
   "execution_count": null,
   "metadata": {},
   "outputs": [],
   "source": [
    "model.predict(train_input[0])"
   ]
  },
  {
   "cell_type": "code",
   "execution_count": null,
   "metadata": {},
   "outputs": [],
   "source": []
  }
 ],
 "metadata": {
  "kernelspec": {
   "display_name": "Python 3",
   "language": "python",
   "name": "python3"
  },
  "language_info": {
   "codemirror_mode": {
    "name": "ipython",
    "version": 3
   },
   "file_extension": ".py",
   "mimetype": "text/x-python",
   "name": "python",
   "nbconvert_exporter": "python",
   "pygments_lexer": "ipython3",
   "version": "3.7.6"
  }
 },
 "nbformat": 4,
 "nbformat_minor": 4
}
